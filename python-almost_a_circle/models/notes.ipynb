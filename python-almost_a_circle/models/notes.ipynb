class takes dictionary and turns it into an attributed class. task tells you to make a dummy rectangle and update the values using dictionary; dummy rect didnt have an id. you need to give it an id, or it will unintentionally increase the amount of instances that you have.

put init.py into every single one of our files
